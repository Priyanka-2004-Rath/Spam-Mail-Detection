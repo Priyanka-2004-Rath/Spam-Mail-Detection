{
 "cells": [
  {
   "cell_type": "markdown",
   "metadata": {},
   "source": [
    "# IMPORT LIBRARIES"
   ]
  },
  {
   "cell_type": "code",
   "execution_count": 1,
   "metadata": {},
   "outputs": [],
   "source": [
    "#Numerical Python\n",
    "import numpy as np\n",
    "\n",
    "#Data Manipulation\n",
    "import pandas as pd\n",
    "\n",
    "#Data visualization\n",
    "import matplotlib.pyplot as plt\n",
    "import seaborn as sns"
   ]
  },
  {
   "cell_type": "markdown",
   "metadata": {},
   "source": [
    "# LOAD DATASET"
   ]
  },
  {
   "cell_type": "code",
   "execution_count": 2,
   "metadata": {},
   "outputs": [
    {
     "data": {
      "text/html": [
       "<div>\n",
       "<style scoped>\n",
       "    .dataframe tbody tr th:only-of-type {\n",
       "        vertical-align: middle;\n",
       "    }\n",
       "\n",
       "    .dataframe tbody tr th {\n",
       "        vertical-align: top;\n",
       "    }\n",
       "\n",
       "    .dataframe thead th {\n",
       "        text-align: right;\n",
       "    }\n",
       "</style>\n",
       "<table border=\"1\" class=\"dataframe\">\n",
       "  <thead>\n",
       "    <tr style=\"text-align: right;\">\n",
       "      <th></th>\n",
       "      <th>Category</th>\n",
       "      <th>Message</th>\n",
       "    </tr>\n",
       "  </thead>\n",
       "  <tbody>\n",
       "    <tr>\n",
       "      <td>0</td>\n",
       "      <td>ham</td>\n",
       "      <td>Go until jurong point, crazy.. Available only ...</td>\n",
       "    </tr>\n",
       "    <tr>\n",
       "      <td>1</td>\n",
       "      <td>ham</td>\n",
       "      <td>Ok lar... Joking wif u oni...</td>\n",
       "    </tr>\n",
       "    <tr>\n",
       "      <td>2</td>\n",
       "      <td>spam</td>\n",
       "      <td>Free entry in 2 a wkly comp to win FA Cup fina...</td>\n",
       "    </tr>\n",
       "    <tr>\n",
       "      <td>3</td>\n",
       "      <td>ham</td>\n",
       "      <td>U dun say so early hor... U c already then say...</td>\n",
       "    </tr>\n",
       "    <tr>\n",
       "      <td>4</td>\n",
       "      <td>ham</td>\n",
       "      <td>Nah I don't think he goes to usf, he lives aro...</td>\n",
       "    </tr>\n",
       "    <tr>\n",
       "      <td>...</td>\n",
       "      <td>...</td>\n",
       "      <td>...</td>\n",
       "    </tr>\n",
       "    <tr>\n",
       "      <td>5567</td>\n",
       "      <td>spam</td>\n",
       "      <td>This is the 2nd time we have tried 2 contact u...</td>\n",
       "    </tr>\n",
       "    <tr>\n",
       "      <td>5568</td>\n",
       "      <td>ham</td>\n",
       "      <td>Will ü b going to esplanade fr home?</td>\n",
       "    </tr>\n",
       "    <tr>\n",
       "      <td>5569</td>\n",
       "      <td>ham</td>\n",
       "      <td>Pity, * was in mood for that. So...any other s...</td>\n",
       "    </tr>\n",
       "    <tr>\n",
       "      <td>5570</td>\n",
       "      <td>ham</td>\n",
       "      <td>The guy did some bitching but I acted like i'd...</td>\n",
       "    </tr>\n",
       "    <tr>\n",
       "      <td>5571</td>\n",
       "      <td>ham</td>\n",
       "      <td>Rofl. Its true to its name</td>\n",
       "    </tr>\n",
       "  </tbody>\n",
       "</table>\n",
       "<p>5572 rows × 2 columns</p>\n",
       "</div>"
      ],
      "text/plain": [
       "     Category                                            Message\n",
       "0         ham  Go until jurong point, crazy.. Available only ...\n",
       "1         ham                      Ok lar... Joking wif u oni...\n",
       "2        spam  Free entry in 2 a wkly comp to win FA Cup fina...\n",
       "3         ham  U dun say so early hor... U c already then say...\n",
       "4         ham  Nah I don't think he goes to usf, he lives aro...\n",
       "...       ...                                                ...\n",
       "5567     spam  This is the 2nd time we have tried 2 contact u...\n",
       "5568      ham               Will ü b going to esplanade fr home?\n",
       "5569      ham  Pity, * was in mood for that. So...any other s...\n",
       "5570      ham  The guy did some bitching but I acted like i'd...\n",
       "5571      ham                         Rofl. Its true to its name\n",
       "\n",
       "[5572 rows x 2 columns]"
      ]
     },
     "execution_count": 2,
     "metadata": {},
     "output_type": "execute_result"
    }
   ],
   "source": [
    "data=r\"C:\\Users\\Priyanka Rath\\Desktop\\SPAM-MAIL-DETECTION\\Data.csv\"\n",
    "df = pd.read_csv(data)\n",
    "df"
   ]
  },
  {
   "cell_type": "code",
   "execution_count": 3,
   "metadata": {},
   "outputs": [
    {
     "name": "stdout",
     "output_type": "stream",
     "text": [
      "<class 'pandas.core.frame.DataFrame'>\n",
      "RangeIndex: 5572 entries, 0 to 5571\n",
      "Data columns (total 2 columns):\n",
      "Category    5572 non-null object\n",
      "Message     5572 non-null object\n",
      "dtypes: object(2)\n",
      "memory usage: 87.2+ KB\n"
     ]
    }
   ],
   "source": [
    "df.info()"
   ]
  },
  {
   "cell_type": "code",
   "execution_count": 4,
   "metadata": {},
   "outputs": [
    {
     "data": {
      "text/html": [
       "<div>\n",
       "<style scoped>\n",
       "    .dataframe tbody tr th:only-of-type {\n",
       "        vertical-align: middle;\n",
       "    }\n",
       "\n",
       "    .dataframe tbody tr th {\n",
       "        vertical-align: top;\n",
       "    }\n",
       "\n",
       "    .dataframe thead th {\n",
       "        text-align: right;\n",
       "    }\n",
       "</style>\n",
       "<table border=\"1\" class=\"dataframe\">\n",
       "  <thead>\n",
       "    <tr style=\"text-align: right;\">\n",
       "      <th></th>\n",
       "      <th>Category</th>\n",
       "      <th>Message</th>\n",
       "    </tr>\n",
       "  </thead>\n",
       "  <tbody>\n",
       "    <tr>\n",
       "      <td>count</td>\n",
       "      <td>5572</td>\n",
       "      <td>5572</td>\n",
       "    </tr>\n",
       "    <tr>\n",
       "      <td>unique</td>\n",
       "      <td>2</td>\n",
       "      <td>5157</td>\n",
       "    </tr>\n",
       "    <tr>\n",
       "      <td>top</td>\n",
       "      <td>ham</td>\n",
       "      <td>Sorry, I'll call later</td>\n",
       "    </tr>\n",
       "    <tr>\n",
       "      <td>freq</td>\n",
       "      <td>4825</td>\n",
       "      <td>30</td>\n",
       "    </tr>\n",
       "  </tbody>\n",
       "</table>\n",
       "</div>"
      ],
      "text/plain": [
       "       Category                 Message\n",
       "count      5572                    5572\n",
       "unique        2                    5157\n",
       "top         ham  Sorry, I'll call later\n",
       "freq       4825                      30"
      ]
     },
     "execution_count": 4,
     "metadata": {},
     "output_type": "execute_result"
    }
   ],
   "source": [
    "df.describe()"
   ]
  },
  {
   "cell_type": "code",
   "execution_count": 5,
   "metadata": {},
   "outputs": [
    {
     "data": {
      "text/plain": [
       "Category    0\n",
       "Message     0\n",
       "dtype: int64"
      ]
     },
     "execution_count": 5,
     "metadata": {},
     "output_type": "execute_result"
    }
   ],
   "source": [
    "df.isnull().sum()"
   ]
  },
  {
   "cell_type": "code",
   "execution_count": 6,
   "metadata": {},
   "outputs": [
    {
     "data": {
      "text/plain": [
       "Text(0.5, 1.0, 'Spam vs Ham Distribution')"
      ]
     },
     "execution_count": 6,
     "metadata": {},
     "output_type": "execute_result"
    },
    {
     "data": {
      "image/png": "[encoded data removed]",
      "text/plain": [
       "<Figure size 432x288 with 1 Axes>"
      ]
     },
     "metadata": {
      "needs_background": "light"
     },
     "output_type": "display_data"
    }
   ],
   "source": [
    "#Count of spam vs ham\n",
    "df['Category'].value_counts()\n",
    "sns.countplot(x='Category',data=df)\n",
    "plt.title('Spam vs Ham Distribution')"
   ]
  },
  {
   "cell_type": "code",
   "execution_count": 7,
   "metadata": {},
   "outputs": [
    {
     "data": {
      "image/png": "[encoded data removed]",
      "text/plain": [
       "<Figure size 432x288 with 1 Axes>"
      ]
     },
     "metadata": {},
     "output_type": "display_data"
    }
   ],
   "source": [
    "#Pie chart\n",
    "df['Category'].value_counts().plot.pie(autopct='%1.1f%%',colors=['aqua','pink'],labels=['Ham','Spam'])\n",
    "plt.title('Spam vs Ham Distribution')\n",
    "plt.ylabel('')\n",
    "plt.show()"
   ]
  },
  {
   "cell_type": "markdown",
   "metadata": {},
   "source": [
    "# DATA PREPOCESSING"
   ]
  },
  {
   "cell_type": "code",
   "execution_count": 8,
   "metadata": {},
   "outputs": [
    {
     "data": {
      "text/html": [
       "<div>\n",
       "<style scoped>\n",
       "    .dataframe tbody tr th:only-of-type {\n",
       "        vertical-align: middle;\n",
       "    }\n",
       "\n",
       "    .dataframe tbody tr th {\n",
       "        vertical-align: top;\n",
       "    }\n",
       "\n",
       "    .dataframe thead th {\n",
       "        text-align: right;\n",
       "    }\n",
       "</style>\n",
       "<table border=\"1\" class=\"dataframe\">\n",
       "  <thead>\n",
       "    <tr style=\"text-align: right;\">\n",
       "      <th></th>\n",
       "      <th>Category</th>\n",
       "      <th>Message</th>\n",
       "    </tr>\n",
       "  </thead>\n",
       "  <tbody>\n",
       "    <tr>\n",
       "      <td>0</td>\n",
       "      <td>0</td>\n",
       "      <td>Go until jurong point, crazy.. Available only ...</td>\n",
       "    </tr>\n",
       "    <tr>\n",
       "      <td>1</td>\n",
       "      <td>0</td>\n",
       "      <td>Ok lar... Joking wif u oni...</td>\n",
       "    </tr>\n",
       "    <tr>\n",
       "      <td>2</td>\n",
       "      <td>1</td>\n",
       "      <td>Free entry in 2 a wkly comp to win FA Cup fina...</td>\n",
       "    </tr>\n",
       "    <tr>\n",
       "      <td>3</td>\n",
       "      <td>0</td>\n",
       "      <td>U dun say so early hor... U c already then say...</td>\n",
       "    </tr>\n",
       "    <tr>\n",
       "      <td>4</td>\n",
       "      <td>0</td>\n",
       "      <td>Nah I don't think he goes to usf, he lives aro...</td>\n",
       "    </tr>\n",
       "    <tr>\n",
       "      <td>...</td>\n",
       "      <td>...</td>\n",
       "      <td>...</td>\n",
       "    </tr>\n",
       "    <tr>\n",
       "      <td>5567</td>\n",
       "      <td>1</td>\n",
       "      <td>This is the 2nd time we have tried 2 contact u...</td>\n",
       "    </tr>\n",
       "    <tr>\n",
       "      <td>5568</td>\n",
       "      <td>0</td>\n",
       "      <td>Will ü b going to esplanade fr home?</td>\n",
       "    </tr>\n",
       "    <tr>\n",
       "      <td>5569</td>\n",
       "      <td>0</td>\n",
       "      <td>Pity, * was in mood for that. So...any other s...</td>\n",
       "    </tr>\n",
       "    <tr>\n",
       "      <td>5570</td>\n",
       "      <td>0</td>\n",
       "      <td>The guy did some bitching but I acted like i'd...</td>\n",
       "    </tr>\n",
       "    <tr>\n",
       "      <td>5571</td>\n",
       "      <td>0</td>\n",
       "      <td>Rofl. Its true to its name</td>\n",
       "    </tr>\n",
       "  </tbody>\n",
       "</table>\n",
       "<p>5572 rows × 2 columns</p>\n",
       "</div>"
      ],
      "text/plain": [
       "      Category                                            Message\n",
       "0            0  Go until jurong point, crazy.. Available only ...\n",
       "1            0                      Ok lar... Joking wif u oni...\n",
       "2            1  Free entry in 2 a wkly comp to win FA Cup fina...\n",
       "3            0  U dun say so early hor... U c already then say...\n",
       "4            0  Nah I don't think he goes to usf, he lives aro...\n",
       "...        ...                                                ...\n",
       "5567         1  This is the 2nd time we have tried 2 contact u...\n",
       "5568         0               Will ü b going to esplanade fr home?\n",
       "5569         0  Pity, * was in mood for that. So...any other s...\n",
       "5570         0  The guy did some bitching but I acted like i'd...\n",
       "5571         0                         Rofl. Its true to its name\n",
       "\n",
       "[5572 rows x 2 columns]"
      ]
     },
     "execution_count": 8,
     "metadata": {},
     "output_type": "execute_result"
    }
   ],
   "source": [
    "# Convert labels :spam = 1, ham = 0\n",
    "df['Category']=df['Category'].map({'spam': 1,'ham': 0})\n",
    "df.columns=['Category', 'Message']\n",
    "df"
   ]
  },
  {
   "cell_type": "markdown",
   "metadata": {},
   "source": [
    "# Feature Extraction with TF-IDF"
   ]
  },
  {
   "cell_type": "code",
   "execution_count": 10,
   "metadata": {},
   "outputs": [],
   "source": [
    "# Import TF-IDF Vectorizer\n",
    "from sklearn.feature_extraction.text import TfidfVectorizer\n",
    "\n",
    "# Converting the text to feature vectors\n",
    "vect = TfidfVectorizer(stop_words='english', lowercase=True)\n",
    "X = vect.fit_transform(df['Message'])\n",
    "\n",
    "# Labels\n",
    "y = df['Category']\n"
   ]
  },
  {
   "cell_type": "code",
   "execution_count": 12,
   "metadata": {},
   "outputs": [],
   "source": [
    "#Train-Test-Split:\n",
    "from sklearn.model_selection import train_test_split\n",
    "X_train,X_test,y_train,y_test=train_test_split(X,y,test_size=0.2,random_state=42)"
   ]
  },
  {
   "cell_type": "markdown",
   "metadata": {},
   "source": [
    "# MACHINE LEARNING MODELS"
   ]
  },
  {
   "cell_type": "code",
   "execution_count": 13,
   "metadata": {},
   "outputs": [],
   "source": [
    "# Machine Learning\n",
    "from sklearn.feature_extraction.text import TfidfVectorizer\n",
    "from sklearn.model_selection import train_test_split\n",
    "from sklearn.linear_model import LogisticRegression\n",
    "from sklearn.metrics import accuracy_score,precision_score,recall_score,f1_score,confusion_matrix\n",
    "from sklearn.neighbors import KNeighborsClassifier\n",
    "from sklearn.tree import DecisionTreeClassifier\n",
    "from sklearn.naive_bayes import MultinomialNB"
   ]
  },
  {
   "cell_type": "markdown",
   "metadata": {},
   "source": [
    "# LOGISTIC REGRESSION"
   ]
  },
  {
   "cell_type": "code",
   "execution_count": 14,
   "metadata": {},
   "outputs": [],
   "source": [
    "# Model Training \n",
    "lr=LogisticRegression()\n",
    "lr.fit(X_train,y_train)\n",
    "y_pred_lr=lr.predict(X_test)"
   ]
  },
  {
   "cell_type": "code",
   "execution_count": 15,
   "metadata": {},
   "outputs": [
    {
     "name": "stdout",
     "output_type": "stream",
     "text": [
      "Accuracy: 0.95695067264574\n",
      "Precision: 1.0\n",
      "Recall: 0.6778523489932886\n",
      "F1 Score: 0.808\n",
      "Confusion Matrix:\n",
      " [[966   0]\n",
      " [ 48 101]]\n"
     ]
    }
   ],
   "source": [
    "#Evaluation Metrics\n",
    "print(\"Accuracy:\",accuracy_score(y_test,y_pred_lr))\n",
    "print(\"Precision:\",precision_score(y_test,y_pred_lr))\n",
    "print(\"Recall:\",recall_score(y_test,y_pred_lr))\n",
    "print(\"F1 Score:\",f1_score(y_test,y_pred_lr))\n",
    "print(\"Confusion Matrix:\\n\",confusion_matrix(y_test,y_pred_lr))"
   ]
  },
  {
   "cell_type": "code",
   "execution_count": 16,
   "metadata": {},
   "outputs": [
    {
     "data": {
      "text/plain": [
       "Text(33.0, 0.5, 'True Label')"
      ]
     },
     "execution_count": 16,
     "metadata": {},
     "output_type": "execute_result"
    },
    {
     "data": {
      "image/png": "[encoded data removed]",
      "text/plain": [
       "<Figure size 432x288 with 2 Axes>"
      ]
     },
     "metadata": {
      "needs_background": "light"
     },
     "output_type": "display_data"
    }
   ],
   "source": [
    "#Visualizations\n",
    "sns.heatmap(confusion_matrix(y_test, y_pred_lr),annot=True,fmt='d',cmap='hot',\n",
    "            xticklabels=['Ham', 'Spam'],\n",
    "            yticklabels=['Ham', 'Spam'])\n",
    "plt.title(\"Confusion Matrix-Logistic Regression\")\n",
    "plt.xlabel(\"Predicted Label\")\n",
    "plt.ylabel(\"True Label\")"
   ]
  },
  {
   "cell_type": "markdown",
   "metadata": {},
   "source": [
    "# K-Nearest Neighbors(KNN)"
   ]
  },
  {
   "cell_type": "code",
   "execution_count": 17,
   "metadata": {},
   "outputs": [],
   "source": [
    "# Model Training\n",
    "knn=KNeighborsClassifier()\n",
    "knn.fit(X_train,y_train)\n",
    "y_pred_knn=knn.predict(X_test)"
   ]
  },
  {
   "cell_type": "code",
   "execution_count": 18,
   "metadata": {},
   "outputs": [
    {
     "name": "stdout",
     "output_type": "stream",
     "text": [
      "Accuracy: 0.9103139013452914\n",
      "Precision: 1.0\n",
      "Recall: 0.3288590604026846\n",
      "F1 Score: 0.494949494949495\n",
      "Confusion Matrix:\n",
      " [[966   0]\n",
      " [100  49]]\n"
     ]
    }
   ],
   "source": [
    "#Evaluation Metrics\n",
    "print(\"Accuracy:\",accuracy_score(y_test,y_pred_knn))\n",
    "print(\"Precision:\",precision_score(y_test,y_pred_knn))\n",
    "print(\"Recall:\",recall_score(y_test,y_pred_knn))\n",
    "print(\"F1 Score:\",f1_score(y_test,y_pred_knn))\n",
    "print(\"Confusion Matrix:\\n\",confusion_matrix(y_test,y_pred_knn))"
   ]
  },
  {
   "cell_type": "code",
   "execution_count": 19,
   "metadata": {},
   "outputs": [
    {
     "data": {
      "text/plain": [
       "Text(33.0, 0.5, 'True Label')"
      ]
     },
     "execution_count": 19,
     "metadata": {},
     "output_type": "execute_result"
    },
    {
     "data": {
      "image/png": "[encoded data removed]",
      "text/plain": [
       "<Figure size 432x288 with 2 Axes>"
      ]
     },
     "metadata": {
      "needs_background": "light"
     },
     "output_type": "display_data"
    }
   ],
   "source": [
    "#Visualization\n",
    "sns.heatmap(confusion_matrix(y_test, y_pred_knn),annot=True,fmt='d',cmap='hot',\n",
    "            xticklabels=['Ham','Spam'],\n",
    "            yticklabels=['Ham','Spam'])\n",
    "plt.title(\"Confusion Matrix-K-Nearest Neighbors(KNN)\")\n",
    "plt.xlabel(\"Predicted Label\")\n",
    "plt.ylabel(\"True Label\")"
   ]
  },
  {
   "cell_type": "markdown",
   "metadata": {},
   "source": [
    "# Decision Tree"
   ]
  },
  {
   "cell_type": "code",
   "execution_count": 20,
   "metadata": {},
   "outputs": [],
   "source": [
    "# Model Training\n",
    "dec_t=DecisionTreeClassifier()\n",
    "dec_t.fit(X_train,y_train)\n",
    "y_pred_dect=dec_t.predict(X_test)"
   ]
  },
  {
   "cell_type": "code",
   "execution_count": 21,
   "metadata": {},
   "outputs": [
    {
     "name": "stdout",
     "output_type": "stream",
     "text": [
      "Accuracy: 0.967713004484305\n",
      "Precision: 0.9064748201438849\n",
      "Recall: 0.8456375838926175\n",
      "F1 Score: 0.875\n",
      "Confusion Matrix:\n",
      " [[953  13]\n",
      " [ 23 126]]\n"
     ]
    }
   ],
   "source": [
    "#Evaluation Metrics\n",
    "print(\"Accuracy:\",accuracy_score(y_test,y_pred_dect))\n",
    "print(\"Precision:\",precision_score(y_test,y_pred_dect))\n",
    "print(\"Recall:\",recall_score(y_test,y_pred_dect))\n",
    "print(\"F1 Score:\",f1_score(y_test,y_pred_dect))\n",
    "print(\"Confusion Matrix:\\n\",confusion_matrix(y_test,y_pred_dect))"
   ]
  },
  {
   "cell_type": "code",
   "execution_count": 22,
   "metadata": {},
   "outputs": [
    {
     "data": {
      "text/plain": [
       "Text(33.0, 0.5, 'True Label')"
      ]
     },
     "execution_count": 22,
     "metadata": {},
     "output_type": "execute_result"
    },
    {
     "data": {
      "image/png": "[encoded data removed]",
      "text/plain": [
       "<Figure size 432x288 with 2 Axes>"
      ]
     },
     "metadata": {
      "needs_background": "light"
     },
     "output_type": "display_data"
    }
   ],
   "source": [
    "#Visualization\n",
    "sns.heatmap(confusion_matrix(y_test, y_pred_dect),annot=True,fmt='d',cmap='hot',\n",
    "            xticklabels=['Ham','Spam'],\n",
    "            yticklabels=['Ham','Spam'])\n",
    "plt.title(\"Confusion Matrix-Decision Tree\")\n",
    "plt.xlabel(\"Predicted Label\")\n",
    "plt.ylabel(\"True Label\")"
   ]
  },
  {
   "cell_type": "markdown",
   "metadata": {},
   "source": [
    "# Naive Bayes(Multinomial)"
   ]
  },
  {
   "cell_type": "code",
   "execution_count": 23,
   "metadata": {},
   "outputs": [],
   "source": [
    "#Model Training\n",
    "nb=MultinomialNB()\n",
    "nb.fit(X_train,y_train)\n",
    "y_pred_nb=nb.predict(X_test)"
   ]
  },
  {
   "cell_type": "code",
   "execution_count": 24,
   "metadata": {},
   "outputs": [
    {
     "name": "stdout",
     "output_type": "stream",
     "text": [
      "Accuracy: 0.9775784753363229\n",
      "Precision: 1.0\n",
      "Recall: 0.8322147651006712\n",
      "F1 Score: 0.9084249084249084\n",
      "Confusion Matrix:\n",
      " [[966   0]\n",
      " [ 25 124]]\n"
     ]
    }
   ],
   "source": [
    "#Evaluation Matrics\n",
    "print(\"Accuracy:\",accuracy_score(y_test,y_pred_nb))\n",
    "print(\"Precision:\",precision_score(y_test,y_pred_nb))\n",
    "print(\"Recall:\",recall_score(y_test,y_pred_nb))\n",
    "print(\"F1 Score:\",f1_score(y_test,y_pred_nb))\n",
    "print(\"Confusion Matrix:\\n\",confusion_matrix(y_test,y_pred_nb))"
   ]
  },
  {
   "cell_type": "code",
   "execution_count": 41,
   "metadata": {},
   "outputs": [
    {
     "data": {
      "text/plain": [
       "Text(33.0, 0.5, 'True Label')"
      ]
     },
     "execution_count": 41,
     "metadata": {},
     "output_type": "execute_result"
    },
    {
     "data": {
      "image/png": "[encoded data removed]",
      "text/plain": [
       "<Figure size 432x288 with 2 Axes>"
      ]
     },
     "metadata": {
      "needs_background": "light"
     },
     "output_type": "display_data"
    }
   ],
   "source": [
    "#Visualization\n",
    "sns.heatmap(confusion_matrix(y_test, y_pred_nb),annot=True,fmt='d',cmap='hot',\n",
    "            xticklabels=['Ham','Spam'],\n",
    "            yticklabels=['Ham','Spam'])\n",
    "plt.title(\"Confusion Matrix-Naive Bayes(MultiNomial)\")\n",
    "plt.xlabel(\"Predicted Label\")\n",
    "plt.ylabel(\"True Label\")"
   ]
  },
  {
   "cell_type": "markdown",
   "metadata": {},
   "source": [
    "# Comparison Of all Models"
   ]
  },
  {
   "cell_type": "code",
   "execution_count": 26,
   "metadata": {},
   "outputs": [
    {
     "name": "stdout",
     "output_type": "stream",
     "text": [
      "Evaluation Metrics for All Models:\n",
      "\n",
      "                     Accuracy  Precision    Recall  F1 Score\n",
      "Model                                                       \n",
      "Logistic Regression  0.956951   1.000000  0.677852  0.808000\n",
      "KNN                  0.910314   1.000000  0.328859  0.494949\n",
      "Decision Tree        0.967713   0.906475  0.845638  0.875000\n",
      "Naive Bayes          0.977578   1.000000  0.832215  0.908425\n"
     ]
    }
   ],
   "source": [
    "final_comp = {\n",
    "    'Logistic Regression': [\n",
    "        accuracy_score(y_test,y_pred_lr),\n",
    "        precision_score(y_test,y_pred_lr),\n",
    "        recall_score(y_test,y_pred_lr),\n",
    "        f1_score(y_test,y_pred_lr)\n",
    "    ],\n",
    "    'KNN': [\n",
    "        accuracy_score(y_test,y_pred_knn),\n",
    "        precision_score(y_test,y_pred_knn),\n",
    "        recall_score(y_test,y_pred_knn),\n",
    "        f1_score(y_test,y_pred_knn)\n",
    "    ],\n",
    "    'Decision Tree': [\n",
    "        accuracy_score(y_test,y_pred_dect),\n",
    "        precision_score(y_test,y_pred_dect),\n",
    "        recall_score(y_test,y_pred_dect),\n",
    "        f1_score(y_test,y_pred_dect)\n",
    "    ],\n",
    "    'Naive Bayes': [\n",
    "        accuracy_score(y_test,y_pred_nb),\n",
    "        precision_score(y_test,y_pred_nb),\n",
    "        recall_score(y_test,y_pred_nb),\n",
    "        f1_score(y_test,y_pred_nb)\n",
    "    ]\n",
    "}\n",
    "comp_res=pd.DataFrame(final_comp,index=['Accuracy','Precision','Recall','F1 Score']).transpose()\n",
    "comp_res.index.name='Model'\n",
    "print(\"Evaluation Metrics for All Models:\\n\")\n",
    "print(comp_res)\n"
   ]
  },
  {
   "cell_type": "markdown",
   "metadata": {},
   "source": [
    "# Visualization of all Models"
   ]
  },
  {
   "cell_type": "code",
   "execution_count": 37,
   "metadata": {},
   "outputs": [
    {
     "data": {
      "image/png": "[encoded data removed]",
      "text/plain": [
       "<Figure size 720x432 with 2 Axes>"
      ]
     },
     "metadata": {
      "needs_background": "light"
     },
     "output_type": "display_data"
    }
   ],
   "source": [
    "plt.figure(figsize=(10,6))  # increase figure size\n",
    "sns.heatmap(\n",
    "    comp_res,\n",
    "    annot=True,\n",
    "    fmt=\".4f\",\n",
    "    cmap=\"coolwarm\",\n",
    "    linewidths=0.5,\n",
    "    annot_kws={\"size\":12, \"weight\":\"bold\", \"color\":\"black\"}  # bigger, bold, black text\n",
    ")\n",
    "\n",
    "plt.title(\"Model Performance Heatmap\", fontsize=16, weight='bold')\n",
    "plt.xlabel(\"Metric\", fontsize=14, weight='bold')\n",
    "plt.ylabel(\"Model\", fontsize=12, weight='bold')\n",
    "plt.xticks(fontsize=12, rotation=45, ha='right')\n",
    "plt.yticks(fontsize=12 , rotation=35 ,ha='right' )\n",
    "plt.show()"
   ]
  },
  {
   "cell_type": "markdown",
   "metadata": {},
   "source": [
    "# Observation:"
   ]
  },
  {
   "cell_type": "markdown",
   "metadata": {},
   "source": [
    "### Precision:\n",
    "\n",
    "Logistic Regression, KNN, and Naive Bayes all achieved perfect precision (1.0000).\n",
    "Decision Tree had slightly lower precision (0.9137), meaning it occasionally predicted spam where it wasn't.\n",
    "\n",
    "\n",
    "### Recall (ability to catch actual spam):\n",
    "\n",
    "KNN had very low recall (0.3289).\n",
    "Logistic Regression had moderate recall (0.6779).\n",
    "Decision Tree: 0.8523\n",
    "Naive Bayes: 0.8322\n",
    "\n",
    "### F1 Score (balance of precision and recall):\n",
    "\n",
    "KNN: 0.4949 → weakest overall.\n",
    "Logistic Regression: 0.8080\n",
    "Decision Tree: 0.8819\n",
    "Naive Bayes: 0.9084\n",
    "\n",
    "### Accuracy:\n",
    "\n",
    "Highest for Naive Bayes (0.9776), followed by Decision Tree (0.9695)."
   ]
  },
  {
   "cell_type": "markdown",
   "metadata": {},
   "source": [
    "# Conclusion:"
   ]
  },
  {
   "cell_type": "markdown",
   "metadata": {},
   "source": [
    "- Naive Bayes delivered the highest overall accuracy (0.9776) with perfect precision and strong recall (0.8322), making it the best-balanced model for spam detection in this case.\n",
    "\n",
    "- Decision Tree also performed strongly, especially in recall (0.8523) and F1 score (0.8819), but had slightly lower precision (0.9137).\n",
    "\n",
    "- Logistic Regression was very precise (1.0000) but missed more spam (recall: 0.6779), resulting in a lower F1 score (0.8080).\n",
    "\n",
    "- KNN, while precise, had poor recall and F1 score, making it unsuitable for effective spam filtering."
   ]
  },
  {
   "cell_type": "markdown",
   "metadata": {},
   "source": [
    "#### Overll, Naive Bayes is the most reliable, accurate, and generalizable model for spam mail detection among the ones tested."
   ]
  },
  {
   "cell_type": "code",
   "execution_count": 42,
   "metadata": {},
   "outputs": [],
   "source": [
    "import pickle\n",
    "\n",
    "# Save trained Naive Bayes model + TF-IDF vectorizer\n",
    "pickle.dump(nb, open(\"model.pkl\", \"wb\"))\n",
    "pickle.dump(vect, open(\"vectorizer.pkl\", \"wb\"))\n"
   ]
  },
  {
   "cell_type": "code",
   "execution_count": 43,
   "metadata": {},
   "outputs": [
    {
     "name": "stdout",
     "output_type": "stream",
     "text": [
      "<class 'sklearn.naive_bayes.MultinomialNB'>\n",
      "<class 'sklearn.feature_extraction.text.TfidfVectorizer'>\n"
     ]
    }
   ],
   "source": [
    "# Load back the model and vectorizer\n",
    "loaded_model = pickle.load(open(\"model.pkl\", \"rb\"))\n",
    "loaded_vect = pickle.load(open(\"vectorizer.pkl\", \"rb\"))\n",
    "\n",
    "print(type(loaded_model))\n",
    "print(type(loaded_vect))\n"
   ]
  }
 ],
 "metadata": {
  "kernelspec": {
   "display_name": "Python 3",
   "language": "python",
   "name": "python3"
  },
  "language_info": {
   "codemirror_mode": {
    "name": "ipython",
    "version": 3
   },
   "file_extension": ".py",
   "mimetype": "text/x-python",
   "name": "python",
   "nbconvert_exporter": "python",
   "pygments_lexer": "ipython3",
   "version": "3.7.4"
  }
 },
 "nbformat": 4,
 "nbformat_minor": 2
}
